{
 "cells": [
  {
   "cell_type": "markdown",
   "metadata": {},
   "source": [
    "## ResNeXt-50\n",
    "\n",
    "ResNeXt-50의 구조\n",
    "\n",
    "<img src=\"pic/ResNeXt50.png\" width=\"400\" height=\"450\">\n",
    "\n",
    "Cardinality\n",
    "\n",
    "<img src=\"pic/cardinality.jpg\" width=\"300\" height=\"200\">"
   ]
  },
  {
   "cell_type": "code",
   "execution_count": null,
   "metadata": {},
   "outputs": [
    {
     "name": "stderr",
     "output_type": "stream",
     "text": [
      "c:\\Users\\root\\anaconda3\\envs\\detectron_rev\\lib\\site-packages\\tqdm\\auto.py:21: TqdmWarning: IProgress not found. Please update jupyter and ipywidgets. See https://ipywidgets.readthedocs.io/en/stable/user_install.html\n",
      "  from .autonotebook import tqdm as notebook_tqdm\n"
     ]
    }
   ],
   "source": [
    "import torch\n",
    "import torch.nn as nn\n",
    "import torch.nn.functional as F\n",
    "from torchsummary import summary\n",
    "from torch import optim\n",
    "\n",
    "from torchvision import utils\n",
    "import matplotlib.pyplot as plt\n",
    "%matplotlib inline\n",
    "\n",
    "import numpy as np\n",
    "from torchsummary import summary\n",
    "import time\n",
    "import copy"
   ]
  },
  {
   "cell_type": "markdown",
   "metadata": {},
   "source": [
    "# ResNext Model"
   ]
  },
  {
   "cell_type": "code",
   "execution_count": 2,
   "metadata": {},
   "outputs": [],
   "source": [
    "class BottleNeck(nn.Module):\n",
    "    expansion = 4\n",
    "    Cardinality = 32 # group 수\n",
    "    Basewidth = 64 # bottleneck 채널이 64이면 group convolution의 채널은 depth\n",
    "    Depth = 4 # basewidth일 때, group convolution의 채널 수\n",
    "    def __init__(self, in_channels, out_channels, stride=1):\n",
    "        super().__init__()\n",
    "        C = BottleNeck.Cardinality\n",
    "        D = int(BottleNeck.Depth * out_channels / BottleNeck.Basewidth)\n",
    "\n",
    "        self.conv_residual = nn.Sequential(\n",
    "            nn.Conv2d(in_channels, C * D, 1, stride=1, padding=0, bias=False),\n",
    "            nn.BatchNorm2d(C*D),\n",
    "            nn.ReLU(),\n",
    "            nn.Conv2d(C*D, C*D, 3, stride=stride, padding=1, groups=BottleNeck.Cardinality, bias=False),\n",
    "            nn.BatchNorm2d(C*D),\n",
    "            nn.ReLU(),\n",
    "            nn.Conv2d(C*D, out_channels * BottleNeck.expansion, 1, stride=1, padding=0, bias=False),\n",
    "            nn.BatchNorm2d(out_channels * BottleNeck.expansion)\n",
    "        )\n",
    "\n",
    "        self.conv_shortcut = nn.Sequential()\n",
    "\n",
    "        if stride != 1 or in_channels != out_channels * BottleNeck.expansion:\n",
    "            self.conv_shortcut = nn.Conv2d(in_channels, out_channels * BottleNeck.expansion, 1, stride=stride, padding=0)\n",
    "\n",
    "    def forward(self, x):\n",
    "        x = self.conv_residual(x) + self.conv_shortcut(x)\n",
    "        return x\n",
    "\n",
    "\n",
    "# ResNext\n",
    "class ResNext(nn.Module):\n",
    "    def __init__(self, nblocks, num_classes=10, init_weights=True):\n",
    "        super().__init__()\n",
    "        self.init_weights=init_weights\n",
    "        self.in_channels = 64\n",
    "\n",
    "        self.conv1 = nn.Sequential(\n",
    "            nn.Conv2d(3, 64, 7, stride=2, padding=2, bias=False),\n",
    "            nn.BatchNorm2d(64),\n",
    "            nn.ReLU(),\n",
    "            nn.MaxPool2d(3, stride=2, padding=1)\n",
    "        )\n",
    "\n",
    "        self.conv2 = self._make_res_block(nblocks[0], 64, 1)\n",
    "        self.conv3 = self._make_res_block(nblocks[1], 128, 2)\n",
    "        self.conv4 = self._make_res_block(nblocks[2], 256, 2)\n",
    "        self.conv5 = self._make_res_block(nblocks[3], 512, 2)\n",
    "\n",
    "        self.avg_pool = nn.AdaptiveAvgPool2d((1,1))\n",
    "        self.linear = nn.Linear(512 * BottleNeck.expansion, num_classes)\n",
    "\n",
    "        # weights initialization\n",
    "        if self.init_weights:\n",
    "            self._initialize_weights()\n",
    "\n",
    "    def forward(self, x):\n",
    "        x = self.conv1(x)\n",
    "        x = self.conv2(x)\n",
    "        x = self.conv3(x)\n",
    "        x = self.conv4(x)\n",
    "        x = self.conv5(x)\n",
    "        x = self.avg_pool(x)\n",
    "        x = x.view(x.size(0), -1)\n",
    "        x = self.linear(x)\n",
    "        return x\n",
    "\n",
    "    def _make_res_block(self, nblock, out_channels, stride):\n",
    "        strides = [stride] + [1] * (nblock-1)\n",
    "        res_block = nn.Sequential()\n",
    "        for i, stride in enumerate(strides):\n",
    "            res_block.add_module('dens_layer_{}'.format(i), BottleNeck(self.in_channels, out_channels, stride))\n",
    "            self.in_channels = out_channels * BottleNeck.expansion\n",
    "        return res_block\n",
    "\n",
    "    # weights initialization function\n",
    "    def _initialize_weights(self):\n",
    "        for m in self.modules():\n",
    "            if isinstance(m, nn.Conv2d):\n",
    "                nn.init.kaiming_normal_(m.weight, mode='fan_out', nonlinearity='relu')\n",
    "                if m.bias is not None:\n",
    "                    nn.init.constant_(m.bias, 0)\n",
    "            elif isinstance(m, nn.BatchNorm2d):\n",
    "                nn.init.constant_(m.weight, 1)\n",
    "                nn.init.constant_(m.bias, 0)\n",
    "            elif isinstance(m, nn.Linear):\n",
    "                nn.init.normal_(m.weight, 0, 0.01)\n",
    "                nn.init.constant_(m.bias, 0)\n",
    "\n",
    "def ResNext50():\n",
    "    return ResNext([3, 4, 6, 3])"
   ]
  },
  {
   "cell_type": "code",
   "execution_count": 3,
   "metadata": {},
   "outputs": [
    {
     "name": "stdout",
     "output_type": "stream",
     "text": [
      "output size:  torch.Size([3, 10])\n"
     ]
    }
   ],
   "source": [
    "# check model\n",
    "device = torch.device('cuda' if torch.cuda.is_available() else 'cpu')\n",
    "x = torch.randn((3, 3, 224, 224)).to(device)\n",
    "model = ResNext50().to(device)\n",
    "output = model(x)\n",
    "print('output size: ', output.size())"
   ]
  },
  {
   "cell_type": "code",
   "execution_count": 4,
   "metadata": {},
   "outputs": [
    {
     "name": "stdout",
     "output_type": "stream",
     "text": [
      "----------------------------------------------------------------\n",
      "        Layer (type)               Output Shape         Param #\n",
      "================================================================\n",
      "            Conv2d-1         [-1, 64, 111, 111]           9,408\n",
      "       BatchNorm2d-2         [-1, 64, 111, 111]             128\n",
      "              ReLU-3         [-1, 64, 111, 111]               0\n",
      "         MaxPool2d-4           [-1, 64, 56, 56]               0\n",
      "            Conv2d-5          [-1, 128, 56, 56]           8,192\n",
      "       BatchNorm2d-6          [-1, 128, 56, 56]             256\n",
      "              ReLU-7          [-1, 128, 56, 56]               0\n",
      "            Conv2d-8          [-1, 128, 56, 56]           4,608\n",
      "       BatchNorm2d-9          [-1, 128, 56, 56]             256\n",
      "             ReLU-10          [-1, 128, 56, 56]               0\n",
      "           Conv2d-11          [-1, 256, 56, 56]          32,768\n",
      "      BatchNorm2d-12          [-1, 256, 56, 56]             512\n",
      "           Conv2d-13          [-1, 256, 56, 56]          16,640\n",
      "       BottleNeck-14          [-1, 256, 56, 56]               0\n",
      "           Conv2d-15          [-1, 128, 56, 56]          32,768\n",
      "      BatchNorm2d-16          [-1, 128, 56, 56]             256\n",
      "             ReLU-17          [-1, 128, 56, 56]               0\n",
      "           Conv2d-18          [-1, 128, 56, 56]           4,608\n",
      "      BatchNorm2d-19          [-1, 128, 56, 56]             256\n",
      "             ReLU-20          [-1, 128, 56, 56]               0\n",
      "           Conv2d-21          [-1, 256, 56, 56]          32,768\n",
      "      BatchNorm2d-22          [-1, 256, 56, 56]             512\n",
      "       BottleNeck-23          [-1, 256, 56, 56]               0\n",
      "           Conv2d-24          [-1, 128, 56, 56]          32,768\n",
      "      BatchNorm2d-25          [-1, 128, 56, 56]             256\n",
      "             ReLU-26          [-1, 128, 56, 56]               0\n",
      "           Conv2d-27          [-1, 128, 56, 56]           4,608\n",
      "      BatchNorm2d-28          [-1, 128, 56, 56]             256\n",
      "             ReLU-29          [-1, 128, 56, 56]               0\n",
      "           Conv2d-30          [-1, 256, 56, 56]          32,768\n",
      "      BatchNorm2d-31          [-1, 256, 56, 56]             512\n",
      "       BottleNeck-32          [-1, 256, 56, 56]               0\n",
      "           Conv2d-33          [-1, 256, 56, 56]          65,536\n",
      "      BatchNorm2d-34          [-1, 256, 56, 56]             512\n",
      "             ReLU-35          [-1, 256, 56, 56]               0\n",
      "           Conv2d-36          [-1, 256, 28, 28]          18,432\n",
      "      BatchNorm2d-37          [-1, 256, 28, 28]             512\n",
      "             ReLU-38          [-1, 256, 28, 28]               0\n",
      "           Conv2d-39          [-1, 512, 28, 28]         131,072\n",
      "      BatchNorm2d-40          [-1, 512, 28, 28]           1,024\n",
      "           Conv2d-41          [-1, 512, 28, 28]         131,584\n",
      "       BottleNeck-42          [-1, 512, 28, 28]               0\n",
      "           Conv2d-43          [-1, 256, 28, 28]         131,072\n",
      "      BatchNorm2d-44          [-1, 256, 28, 28]             512\n",
      "             ReLU-45          [-1, 256, 28, 28]               0\n",
      "           Conv2d-46          [-1, 256, 28, 28]          18,432\n",
      "      BatchNorm2d-47          [-1, 256, 28, 28]             512\n",
      "             ReLU-48          [-1, 256, 28, 28]               0\n",
      "           Conv2d-49          [-1, 512, 28, 28]         131,072\n",
      "      BatchNorm2d-50          [-1, 512, 28, 28]           1,024\n",
      "       BottleNeck-51          [-1, 512, 28, 28]               0\n",
      "           Conv2d-52          [-1, 256, 28, 28]         131,072\n",
      "      BatchNorm2d-53          [-1, 256, 28, 28]             512\n",
      "             ReLU-54          [-1, 256, 28, 28]               0\n",
      "           Conv2d-55          [-1, 256, 28, 28]          18,432\n",
      "      BatchNorm2d-56          [-1, 256, 28, 28]             512\n",
      "             ReLU-57          [-1, 256, 28, 28]               0\n",
      "           Conv2d-58          [-1, 512, 28, 28]         131,072\n",
      "      BatchNorm2d-59          [-1, 512, 28, 28]           1,024\n",
      "       BottleNeck-60          [-1, 512, 28, 28]               0\n",
      "           Conv2d-61          [-1, 256, 28, 28]         131,072\n",
      "      BatchNorm2d-62          [-1, 256, 28, 28]             512\n",
      "             ReLU-63          [-1, 256, 28, 28]               0\n",
      "           Conv2d-64          [-1, 256, 28, 28]          18,432\n",
      "      BatchNorm2d-65          [-1, 256, 28, 28]             512\n",
      "             ReLU-66          [-1, 256, 28, 28]               0\n",
      "           Conv2d-67          [-1, 512, 28, 28]         131,072\n",
      "      BatchNorm2d-68          [-1, 512, 28, 28]           1,024\n",
      "       BottleNeck-69          [-1, 512, 28, 28]               0\n",
      "           Conv2d-70          [-1, 512, 28, 28]         262,144\n",
      "      BatchNorm2d-71          [-1, 512, 28, 28]           1,024\n",
      "             ReLU-72          [-1, 512, 28, 28]               0\n",
      "           Conv2d-73          [-1, 512, 14, 14]          73,728\n",
      "      BatchNorm2d-74          [-1, 512, 14, 14]           1,024\n",
      "             ReLU-75          [-1, 512, 14, 14]               0\n",
      "           Conv2d-76         [-1, 1024, 14, 14]         524,288\n",
      "      BatchNorm2d-77         [-1, 1024, 14, 14]           2,048\n",
      "           Conv2d-78         [-1, 1024, 14, 14]         525,312\n",
      "       BottleNeck-79         [-1, 1024, 14, 14]               0\n",
      "           Conv2d-80          [-1, 512, 14, 14]         524,288\n",
      "      BatchNorm2d-81          [-1, 512, 14, 14]           1,024\n",
      "             ReLU-82          [-1, 512, 14, 14]               0\n",
      "           Conv2d-83          [-1, 512, 14, 14]          73,728\n",
      "      BatchNorm2d-84          [-1, 512, 14, 14]           1,024\n",
      "             ReLU-85          [-1, 512, 14, 14]               0\n",
      "           Conv2d-86         [-1, 1024, 14, 14]         524,288\n",
      "      BatchNorm2d-87         [-1, 1024, 14, 14]           2,048\n",
      "       BottleNeck-88         [-1, 1024, 14, 14]               0\n",
      "           Conv2d-89          [-1, 512, 14, 14]         524,288\n",
      "      BatchNorm2d-90          [-1, 512, 14, 14]           1,024\n",
      "             ReLU-91          [-1, 512, 14, 14]               0\n",
      "           Conv2d-92          [-1, 512, 14, 14]          73,728\n",
      "      BatchNorm2d-93          [-1, 512, 14, 14]           1,024\n",
      "             ReLU-94          [-1, 512, 14, 14]               0\n",
      "           Conv2d-95         [-1, 1024, 14, 14]         524,288\n",
      "      BatchNorm2d-96         [-1, 1024, 14, 14]           2,048\n",
      "       BottleNeck-97         [-1, 1024, 14, 14]               0\n",
      "           Conv2d-98          [-1, 512, 14, 14]         524,288\n",
      "      BatchNorm2d-99          [-1, 512, 14, 14]           1,024\n",
      "            ReLU-100          [-1, 512, 14, 14]               0\n",
      "          Conv2d-101          [-1, 512, 14, 14]          73,728\n",
      "     BatchNorm2d-102          [-1, 512, 14, 14]           1,024\n",
      "            ReLU-103          [-1, 512, 14, 14]               0\n",
      "          Conv2d-104         [-1, 1024, 14, 14]         524,288\n",
      "     BatchNorm2d-105         [-1, 1024, 14, 14]           2,048\n",
      "      BottleNeck-106         [-1, 1024, 14, 14]               0\n",
      "          Conv2d-107          [-1, 512, 14, 14]         524,288\n",
      "     BatchNorm2d-108          [-1, 512, 14, 14]           1,024\n",
      "            ReLU-109          [-1, 512, 14, 14]               0\n",
      "          Conv2d-110          [-1, 512, 14, 14]          73,728\n",
      "     BatchNorm2d-111          [-1, 512, 14, 14]           1,024\n",
      "            ReLU-112          [-1, 512, 14, 14]               0\n",
      "          Conv2d-113         [-1, 1024, 14, 14]         524,288\n",
      "     BatchNorm2d-114         [-1, 1024, 14, 14]           2,048\n",
      "      BottleNeck-115         [-1, 1024, 14, 14]               0\n",
      "          Conv2d-116          [-1, 512, 14, 14]         524,288\n",
      "     BatchNorm2d-117          [-1, 512, 14, 14]           1,024\n",
      "            ReLU-118          [-1, 512, 14, 14]               0\n",
      "          Conv2d-119          [-1, 512, 14, 14]          73,728\n",
      "     BatchNorm2d-120          [-1, 512, 14, 14]           1,024\n",
      "            ReLU-121          [-1, 512, 14, 14]               0\n",
      "          Conv2d-122         [-1, 1024, 14, 14]         524,288\n",
      "     BatchNorm2d-123         [-1, 1024, 14, 14]           2,048\n",
      "      BottleNeck-124         [-1, 1024, 14, 14]               0\n",
      "          Conv2d-125         [-1, 1024, 14, 14]       1,048,576\n",
      "     BatchNorm2d-126         [-1, 1024, 14, 14]           2,048\n",
      "            ReLU-127         [-1, 1024, 14, 14]               0\n",
      "          Conv2d-128           [-1, 1024, 7, 7]         294,912\n",
      "     BatchNorm2d-129           [-1, 1024, 7, 7]           2,048\n",
      "            ReLU-130           [-1, 1024, 7, 7]               0\n",
      "          Conv2d-131           [-1, 2048, 7, 7]       2,097,152\n",
      "     BatchNorm2d-132           [-1, 2048, 7, 7]           4,096\n",
      "          Conv2d-133           [-1, 2048, 7, 7]       2,099,200\n",
      "      BottleNeck-134           [-1, 2048, 7, 7]               0\n",
      "          Conv2d-135           [-1, 1024, 7, 7]       2,097,152\n",
      "     BatchNorm2d-136           [-1, 1024, 7, 7]           2,048\n",
      "            ReLU-137           [-1, 1024, 7, 7]               0\n",
      "          Conv2d-138           [-1, 1024, 7, 7]         294,912\n",
      "     BatchNorm2d-139           [-1, 1024, 7, 7]           2,048\n",
      "            ReLU-140           [-1, 1024, 7, 7]               0\n",
      "          Conv2d-141           [-1, 2048, 7, 7]       2,097,152\n",
      "     BatchNorm2d-142           [-1, 2048, 7, 7]           4,096\n",
      "      BottleNeck-143           [-1, 2048, 7, 7]               0\n",
      "          Conv2d-144           [-1, 1024, 7, 7]       2,097,152\n",
      "     BatchNorm2d-145           [-1, 1024, 7, 7]           2,048\n",
      "            ReLU-146           [-1, 1024, 7, 7]               0\n",
      "          Conv2d-147           [-1, 1024, 7, 7]         294,912\n",
      "     BatchNorm2d-148           [-1, 1024, 7, 7]           2,048\n",
      "            ReLU-149           [-1, 1024, 7, 7]               0\n",
      "          Conv2d-150           [-1, 2048, 7, 7]       2,097,152\n",
      "     BatchNorm2d-151           [-1, 2048, 7, 7]           4,096\n",
      "      BottleNeck-152           [-1, 2048, 7, 7]               0\n",
      "AdaptiveAvgPool2d-153           [-1, 2048, 1, 1]               0\n",
      "          Linear-154                   [-1, 10]          20,490\n",
      "================================================================\n",
      "Total params: 22,996,554\n",
      "Trainable params: 22,996,554\n",
      "Non-trainable params: 0\n",
      "----------------------------------------------------------------\n",
      "Input size (MB): 0.57\n",
      "Forward/backward pass size (MB): 307.85\n",
      "Params size (MB): 87.72\n",
      "Estimated Total Size (MB): 396.15\n",
      "----------------------------------------------------------------\n"
     ]
    }
   ],
   "source": [
    "summary(model, (3, 224, 224), device=device.type)"
   ]
  },
  {
   "cell_type": "markdown",
   "metadata": {},
   "source": [
    "# Dataset"
   ]
  },
  {
   "cell_type": "code",
   "execution_count": 5,
   "metadata": {},
   "outputs": [
    {
     "name": "stdout",
     "output_type": "stream",
     "text": [
      "Files already downloaded and verified\n",
      "Files already downloaded and verified\n"
     ]
    }
   ],
   "source": [
    "#Dataset\n",
    "import torchvision\n",
    "import torchvision.datasets as datasets # 이미지 데이터셋 집합체\n",
    "import torchvision.transforms as transforms # 이미지 변환 툴\n",
    "from torch.utils.data import DataLoader # 학습 및 배치로 모델에 넣어주기 위한 툴\n",
    "\n",
    "# Transform 정의\n",
    "transform = transforms.Compose(\n",
    "    [transforms.ToTensor(),\n",
    "     transforms.Normalize((0.5, 0.5, 0.5), (0.5, 0.5, 0.5))])\n",
    "\n",
    "batch_size = 256\n",
    "\n",
    "trainset = torchvision.datasets.CIFAR10(root='./data', train=True,\n",
    "                                        download=True, transform=transform)\n",
    "\n",
    "trainloader = torch.utils.data.DataLoader(trainset, batch_size=batch_size,\n",
    "                                          shuffle=True, num_workers=2)\n",
    "\n",
    "testset = torchvision.datasets.CIFAR10(root='./data', train=False,\n",
    "                                       download=True, transform=transform)\n",
    "testloader = torch.utils.data.DataLoader(testset, batch_size=batch_size,\n",
    "                                         shuffle=False, num_workers=2)\n",
    "\n",
    "classes = ('plane', 'car', 'bird', 'cat', 'deer', 'dog', 'frog', 'horse', 'ship', 'truck')"
   ]
  },
  {
   "cell_type": "markdown",
   "metadata": {},
   "source": [
    "# Train"
   ]
  },
  {
   "cell_type": "code",
   "execution_count": 6,
   "metadata": {},
   "outputs": [
    {
     "name": "stderr",
     "output_type": "stream",
     "text": [
      "Epoch 1/10: 100%|██████████| 196/196 [00:39<00:00,  4.96it/s]\n"
     ]
    },
    {
     "name": "stdout",
     "output_type": "stream",
     "text": [
      "Epoch 1/10, Loss: 1.2645355463027954, Train Accuracy: 44.43%\n"
     ]
    },
    {
     "name": "stderr",
     "output_type": "stream",
     "text": [
      "Epoch 2/10: 100%|██████████| 196/196 [00:39<00:00,  4.94it/s]\n"
     ]
    },
    {
     "name": "stdout",
     "output_type": "stream",
     "text": [
      "Epoch 2/10, Loss: 1.080032467842102, Train Accuracy: 60.74%\n"
     ]
    },
    {
     "name": "stderr",
     "output_type": "stream",
     "text": [
      "Epoch 3/10: 100%|██████████| 196/196 [00:39<00:00,  4.93it/s]\n"
     ]
    },
    {
     "name": "stdout",
     "output_type": "stream",
     "text": [
      "Epoch 3/10, Loss: 0.9684934616088867, Train Accuracy: 67.94%\n"
     ]
    },
    {
     "name": "stderr",
     "output_type": "stream",
     "text": [
      "Epoch 4/10: 100%|██████████| 196/196 [00:39<00:00,  4.94it/s]\n"
     ]
    },
    {
     "name": "stdout",
     "output_type": "stream",
     "text": [
      "Epoch 4/10, Loss: 0.6771008968353271, Train Accuracy: 73.01%\n"
     ]
    },
    {
     "name": "stderr",
     "output_type": "stream",
     "text": [
      "Epoch 5/10: 100%|██████████| 196/196 [00:39<00:00,  4.93it/s]\n"
     ]
    },
    {
     "name": "stdout",
     "output_type": "stream",
     "text": [
      "Epoch 5/10, Loss: 0.8275665044784546, Train Accuracy: 76.66%\n"
     ]
    },
    {
     "name": "stderr",
     "output_type": "stream",
     "text": [
      "Epoch 6/10: 100%|██████████| 196/196 [00:39<00:00,  4.93it/s]\n"
     ]
    },
    {
     "name": "stdout",
     "output_type": "stream",
     "text": [
      "Epoch 6/10, Loss: 0.8662371635437012, Train Accuracy: 79.54%\n"
     ]
    },
    {
     "name": "stderr",
     "output_type": "stream",
     "text": [
      "Epoch 7/10: 100%|██████████| 196/196 [00:39<00:00,  4.95it/s]\n"
     ]
    },
    {
     "name": "stdout",
     "output_type": "stream",
     "text": [
      "Epoch 7/10, Loss: 0.5276261568069458, Train Accuracy: 82.65%\n"
     ]
    },
    {
     "name": "stderr",
     "output_type": "stream",
     "text": [
      "Epoch 8/10: 100%|██████████| 196/196 [00:39<00:00,  4.95it/s]\n"
     ]
    },
    {
     "name": "stdout",
     "output_type": "stream",
     "text": [
      "Epoch 8/10, Loss: 0.4674221873283386, Train Accuracy: 84.29%\n"
     ]
    },
    {
     "name": "stderr",
     "output_type": "stream",
     "text": [
      "Epoch 9/10: 100%|██████████| 196/196 [00:39<00:00,  4.95it/s]\n"
     ]
    },
    {
     "name": "stdout",
     "output_type": "stream",
     "text": [
      "Epoch 9/10, Loss: 0.623924732208252, Train Accuracy: 86.13%\n"
     ]
    },
    {
     "name": "stderr",
     "output_type": "stream",
     "text": [
      "Epoch 10/10: 100%|██████████| 196/196 [00:39<00:00,  4.94it/s]\n"
     ]
    },
    {
     "name": "stdout",
     "output_type": "stream",
     "text": [
      "Epoch 10/10, Loss: 0.5916658639907837, Train Accuracy: 87.22%\n"
     ]
    }
   ],
   "source": [
    "from tqdm import tqdm\n",
    "\n",
    "def calculate_accuracy(outputs, labels):\n",
    "    _, predicted = torch.max(outputs, 1)\n",
    "    correct = (predicted == labels).sum().item()\n",
    "    total = labels.size(0)\n",
    "    accuracy = correct / total\n",
    "    return accuracy\n",
    "\n",
    "num_epoch = 10\n",
    "learning_rate = 0.001\n",
    "loss_func = nn.CrossEntropyLoss()\n",
    "optimizer = torch.optim.Adam(model.parameters(),lr=learning_rate)\n",
    "\n",
    "#Train\n",
    "loss_arr = []\n",
    "accuracy_arr = []\n",
    "\n",
    "for i in range(num_epoch):\n",
    "\n",
    "    total_accuracy = 0.0\n",
    "\n",
    "    for j,[image,label] in enumerate(tqdm(trainloader, desc=f'Epoch {i+1}/{num_epoch}')):\n",
    "        x = image.to(device)\n",
    "        y_= label.to(device)\n",
    "\n",
    "        optimizer.zero_grad()\n",
    "        output = model.forward(x)\n",
    "        loss = loss_func(output,y_)\n",
    "        loss.backward()\n",
    "        optimizer.step()\n",
    "\n",
    "        batch_accuracy = calculate_accuracy(output, y_)\n",
    "        total_accuracy += batch_accuracy\n",
    "\n",
    "    avg_accuracy = total_accuracy / len(trainloader)\n",
    "    accuracy_arr.append(avg_accuracy)\n",
    "\n",
    "    print(f'Epoch {i+1}/{num_epoch}, Loss: {loss}, Train Accuracy: {avg_accuracy * 100:.2f}%')\n",
    "    loss_arr.append(loss.cpu().detach().numpy())\n",
    "\n",
    "model_path = 'ResNext50.pth'\n",
    "\n",
    "torch.save({\n",
    "    'epoch': num_epoch,\n",
    "    'model_state_dict': model.state_dict(),\n",
    "    'optimizer_state_dict': optimizer.state_dict(),\n",
    "    'loss': loss_arr,\n",
    "    }, model_path)"
   ]
  },
  {
   "cell_type": "markdown",
   "metadata": {},
   "source": [
    "# Train Visualize"
   ]
  },
  {
   "cell_type": "code",
   "execution_count": 7,
   "metadata": {},
   "outputs": [
    {
     "data": {
      "image/png": "[encoded data removed]",
      "text/plain": [
       "<Figure size 640x480 with 1 Axes>"
      ]
     },
     "metadata": {},
     "output_type": "display_data"
    },
    {
     "data": {
      "image/png": "[encoded data removed]",
      "text/plain": [
       "<Figure size 640x480 with 1 Axes>"
      ]
     },
     "metadata": {},
     "output_type": "display_data"
    }
   ],
   "source": [
    "# plot loss progress\n",
    "plt.title('Train Loss')\n",
    "plt.plot(range(1, num_epoch+1), loss_arr, label='train')\n",
    "plt.ylabel('Loss')\n",
    "plt.xlabel('Training Epochs')\n",
    "plt.legend()\n",
    "plt.show()\n",
    "\n",
    "# plot accuracy progress\n",
    "plt.title('Train Accuracy')\n",
    "plt.plot(range(1, num_epoch+1), accuracy_arr, label='train')\n",
    "plt.ylabel('Accuracy')\n",
    "plt.xlabel('Training Epochs')\n",
    "plt.legend()\n",
    "plt.show()"
   ]
  },
  {
   "cell_type": "markdown",
   "metadata": {},
   "source": [
    "# Test"
   ]
  },
  {
   "cell_type": "code",
   "execution_count": 9,
   "metadata": {},
   "outputs": [
    {
     "name": "stdout",
     "output_type": "stream",
     "text": [
      "Test Accuracy: 81.25%\n"
     ]
    }
   ],
   "source": [
    "model_path = 'ResNext50.pth'\n",
    "\n",
    "model = ResNext50().to(device)\n",
    "\n",
    "checkpoint = torch.load(model_path)\n",
    "model.load_state_dict(checkpoint['model_state_dict'])\n",
    "\n",
    "model.eval()\n",
    "\n",
    "with torch.no_grad():\n",
    "    for image, label in testloader:\n",
    "        x = image.to(device)\n",
    "        y_ = label.to(device)\n",
    "        output = model(x)\n",
    "        \n",
    "        _, predicted = torch.max(output, 1)\n",
    "        accuracy = (predicted == y_).sum().item() / len(y_)\n",
    "print(f'Test Accuracy: {accuracy * 100:.2f}%')"
   ]
  }
 ],
 "metadata": {
  "kernelspec": {
   "display_name": "base",
   "language": "python",
   "name": "python3"
  },
  "language_info": {
   "codemirror_mode": {
    "name": "ipython",
    "version": 3
   },
   "file_extension": ".py",
   "mimetype": "text/x-python",
   "name": "python",
   "nbconvert_exporter": "python",
   "pygments_lexer": "ipython3",
   "version": "3.9.12"
  }
 },
 "nbformat": 4,
 "nbformat_minor": 2
}
